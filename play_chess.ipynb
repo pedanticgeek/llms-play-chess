{
 "cells": [
  {
   "cell_type": "code",
   "execution_count": 1,
   "metadata": {},
   "outputs": [],
   "source": [
    "import time\n",
    "from dotenv import load_dotenv\n",
    "load_dotenv('.env')\n",
    "import chess\n",
    "from claude_player import ClaudePlayer\n",
    "from openai_player import OpenAIPlayer\n",
    "from prompts import white_player_prompt, black_player_prompt"
   ]
  },
  {
   "cell_type": "code",
   "execution_count": 2,
   "metadata": {},
   "outputs": [],
   "source": [
    "white_player = OpenAIPlayer()\n",
    "black_player = ClaudePlayer()"
   ]
  },
  {
   "cell_type": "code",
   "execution_count": 3,
   "metadata": {},
   "outputs": [
    {
     "data": {
      "text/plain": [
       "<LegalMoveGenerator at 0x10c859710 (Nh3, Nf3, Nc3, Na3, h3, g3, f3, e3, d3, c3, b3, a3, h4, g4, f4, e4, d4, c4, b4, a4)>"
      ]
     },
     "execution_count": 3,
     "metadata": {},
     "output_type": "execute_result"
    }
   ],
   "source": [
    "board = chess.Board()\n",
    "board.legal_moves"
   ]
  },
  {
   "cell_type": "code",
   "execution_count": 4,
   "metadata": {},
   "outputs": [],
   "source": [
    "MAX_RETRY = 3\n",
    "moves = []"
   ]
  },
  {
   "cell_type": "code",
   "execution_count": 5,
   "metadata": {},
   "outputs": [],
   "source": [
    "def make_move(player, move, attempts=0):\n",
    "    try:\n",
    "        move = player.make_move(move)\n",
    "        board.push_san(move.strip())\n",
    "        return move\n",
    "    except chess.IllegalMoveError as ex:\n",
    "        attempts += 1\n",
    "        if attempts > MAX_RETRY:\n",
    "            raise Exception(f'{player.__class__.__name__} made too many illegal moves')\n",
    "        return make_move(player, \"You last move was illegal. Please try again:\", attempts=attempts+1)\n",
    "    except chess.InvalidMoveError as ex:\n",
    "        attempts += 1\n",
    "        if attempts > MAX_RETRY:\n",
    "            raise Exception(f'{player.__class__.__name__} returned incorrect value too many times.')\n",
    "        return make_move(player, \"Please return only SAN representation of the move. Please try again:\", attempts=attempts+1)"
   ]
  },
  {
   "cell_type": "markdown",
   "metadata": {},
   "source": [
    "### First Move"
   ]
  },
  {
   "cell_type": "code",
   "execution_count": 6,
   "metadata": {},
   "outputs": [
    {
     "name": "stdout",
     "output_type": "stream",
     "text": [
      "OpenAIPlayer: 1.e4\n",
      "OpenAIPlayer: 1. e4\n",
      "OpenAIPlayer: 1. e2-e4\n"
     ]
    },
    {
     "ename": "Exception",
     "evalue": "OpenAIPlayer returned incorrect value too many times.",
     "output_type": "error",
     "traceback": [
      "\u001b[0;31m---------------------------------------------------------------------------\u001b[0m",
      "\u001b[0;31mInvalidMoveError\u001b[0m                          Traceback (most recent call last)",
      "\u001b[1;32m/Users/maxim/Documents/Code/llms-play-chess/play_chess.ipynb Cell 7\u001b[0m line \u001b[0;36m4\n\u001b[1;32m      <a href='vscode-notebook-cell:/Users/maxim/Documents/Code/llms-play-chess/play_chess.ipynb#X13sZmlsZQ%3D%3D?line=2'>3</a>\u001b[0m move \u001b[39m=\u001b[39m player\u001b[39m.\u001b[39mmake_move(move)\n\u001b[0;32m----> <a href='vscode-notebook-cell:/Users/maxim/Documents/Code/llms-play-chess/play_chess.ipynb#X13sZmlsZQ%3D%3D?line=3'>4</a>\u001b[0m board\u001b[39m.\u001b[39;49mpush_san(move\u001b[39m.\u001b[39;49mstrip())\n\u001b[1;32m      <a href='vscode-notebook-cell:/Users/maxim/Documents/Code/llms-play-chess/play_chess.ipynb#X13sZmlsZQ%3D%3D?line=4'>5</a>\u001b[0m \u001b[39mreturn\u001b[39;00m move\n",
      "File \u001b[0;32m~/.local/share/virtualenvs/llms-play-chess-bAl2FzTy/lib/python3.11/site-packages/chess/__init__.py:3079\u001b[0m, in \u001b[0;36mBoard.push_san\u001b[0;34m(self, san)\u001b[0m\n\u001b[1;32m   3067\u001b[0m \u001b[39m\u001b[39m\u001b[39m\"\"\"\u001b[39;00m\n\u001b[1;32m   3068\u001b[0m \u001b[39mParses a move in standard algebraic notation, makes the move and puts\u001b[39;00m\n\u001b[1;32m   3069\u001b[0m \u001b[39mit onto the move stack.\u001b[39;00m\n\u001b[0;32m   (...)\u001b[0m\n\u001b[1;32m   3077\u001b[0m \u001b[39m        - :exc:`AmbiguousMoveError` if the SAN is ambiguous.\u001b[39;00m\n\u001b[1;32m   3078\u001b[0m \u001b[39m\"\"\"\u001b[39;00m\n\u001b[0;32m-> 3079\u001b[0m move \u001b[39m=\u001b[39m \u001b[39mself\u001b[39;49m\u001b[39m.\u001b[39;49mparse_san(san)\n\u001b[1;32m   3080\u001b[0m \u001b[39mself\u001b[39m\u001b[39m.\u001b[39mpush(move)\n",
      "File \u001b[0;32m~/.local/share/virtualenvs/llms-play-chess-bAl2FzTy/lib/python3.11/site-packages/chess/__init__.py:3012\u001b[0m, in \u001b[0;36mBoard.parse_san\u001b[0;34m(self, san)\u001b[0m\n\u001b[1;32m   3011\u001b[0m     \u001b[39melse\u001b[39;00m:\n\u001b[0;32m-> 3012\u001b[0m         \u001b[39mraise\u001b[39;00m InvalidMoveError(\u001b[39mf\u001b[39m\u001b[39m\"\u001b[39m\u001b[39minvalid san: \u001b[39m\u001b[39m{\u001b[39;00msan\u001b[39m!r}\u001b[39;00m\u001b[39m\"\u001b[39m)\n\u001b[1;32m   3014\u001b[0m \u001b[39m# Get target square. Mask our own pieces to exclude castling moves.\u001b[39;00m\n",
      "\u001b[0;31mInvalidMoveError\u001b[0m: invalid san: '1.e4'",
      "\nDuring handling of the above exception, another exception occurred:\n",
      "\u001b[0;31mInvalidMoveError\u001b[0m                          Traceback (most recent call last)",
      "\u001b[1;32m/Users/maxim/Documents/Code/llms-play-chess/play_chess.ipynb Cell 7\u001b[0m line \u001b[0;36m4\n\u001b[1;32m      <a href='vscode-notebook-cell:/Users/maxim/Documents/Code/llms-play-chess/play_chess.ipynb#X13sZmlsZQ%3D%3D?line=2'>3</a>\u001b[0m move \u001b[39m=\u001b[39m player\u001b[39m.\u001b[39mmake_move(move)\n\u001b[0;32m----> <a href='vscode-notebook-cell:/Users/maxim/Documents/Code/llms-play-chess/play_chess.ipynb#X13sZmlsZQ%3D%3D?line=3'>4</a>\u001b[0m board\u001b[39m.\u001b[39;49mpush_san(move\u001b[39m.\u001b[39;49mstrip())\n\u001b[1;32m      <a href='vscode-notebook-cell:/Users/maxim/Documents/Code/llms-play-chess/play_chess.ipynb#X13sZmlsZQ%3D%3D?line=4'>5</a>\u001b[0m \u001b[39mreturn\u001b[39;00m move\n",
      "File \u001b[0;32m~/.local/share/virtualenvs/llms-play-chess-bAl2FzTy/lib/python3.11/site-packages/chess/__init__.py:3079\u001b[0m, in \u001b[0;36mBoard.push_san\u001b[0;34m(self, san)\u001b[0m\n\u001b[1;32m   3067\u001b[0m \u001b[39m\u001b[39m\u001b[39m\"\"\"\u001b[39;00m\n\u001b[1;32m   3068\u001b[0m \u001b[39mParses a move in standard algebraic notation, makes the move and puts\u001b[39;00m\n\u001b[1;32m   3069\u001b[0m \u001b[39mit onto the move stack.\u001b[39;00m\n\u001b[0;32m   (...)\u001b[0m\n\u001b[1;32m   3077\u001b[0m \u001b[39m        - :exc:`AmbiguousMoveError` if the SAN is ambiguous.\u001b[39;00m\n\u001b[1;32m   3078\u001b[0m \u001b[39m\"\"\"\u001b[39;00m\n\u001b[0;32m-> 3079\u001b[0m move \u001b[39m=\u001b[39m \u001b[39mself\u001b[39;49m\u001b[39m.\u001b[39;49mparse_san(san)\n\u001b[1;32m   3080\u001b[0m \u001b[39mself\u001b[39m\u001b[39m.\u001b[39mpush(move)\n",
      "File \u001b[0;32m~/.local/share/virtualenvs/llms-play-chess-bAl2FzTy/lib/python3.11/site-packages/chess/__init__.py:3012\u001b[0m, in \u001b[0;36mBoard.parse_san\u001b[0;34m(self, san)\u001b[0m\n\u001b[1;32m   3011\u001b[0m     \u001b[39melse\u001b[39;00m:\n\u001b[0;32m-> 3012\u001b[0m         \u001b[39mraise\u001b[39;00m InvalidMoveError(\u001b[39mf\u001b[39m\u001b[39m\"\u001b[39m\u001b[39minvalid san: \u001b[39m\u001b[39m{\u001b[39;00msan\u001b[39m!r}\u001b[39;00m\u001b[39m\"\u001b[39m)\n\u001b[1;32m   3014\u001b[0m \u001b[39m# Get target square. Mask our own pieces to exclude castling moves.\u001b[39;00m\n",
      "\u001b[0;31mInvalidMoveError\u001b[0m: invalid san: '1. e4'",
      "\nDuring handling of the above exception, another exception occurred:\n",
      "\u001b[0;31mInvalidMoveError\u001b[0m                          Traceback (most recent call last)",
      "\u001b[1;32m/Users/maxim/Documents/Code/llms-play-chess/play_chess.ipynb Cell 7\u001b[0m line \u001b[0;36m4\n\u001b[1;32m      <a href='vscode-notebook-cell:/Users/maxim/Documents/Code/llms-play-chess/play_chess.ipynb#X13sZmlsZQ%3D%3D?line=2'>3</a>\u001b[0m move \u001b[39m=\u001b[39m player\u001b[39m.\u001b[39mmake_move(move)\n\u001b[0;32m----> <a href='vscode-notebook-cell:/Users/maxim/Documents/Code/llms-play-chess/play_chess.ipynb#X13sZmlsZQ%3D%3D?line=3'>4</a>\u001b[0m board\u001b[39m.\u001b[39;49mpush_san(move\u001b[39m.\u001b[39;49mstrip())\n\u001b[1;32m      <a href='vscode-notebook-cell:/Users/maxim/Documents/Code/llms-play-chess/play_chess.ipynb#X13sZmlsZQ%3D%3D?line=4'>5</a>\u001b[0m \u001b[39mreturn\u001b[39;00m move\n",
      "File \u001b[0;32m~/.local/share/virtualenvs/llms-play-chess-bAl2FzTy/lib/python3.11/site-packages/chess/__init__.py:3079\u001b[0m, in \u001b[0;36mBoard.push_san\u001b[0;34m(self, san)\u001b[0m\n\u001b[1;32m   3067\u001b[0m \u001b[39m\u001b[39m\u001b[39m\"\"\"\u001b[39;00m\n\u001b[1;32m   3068\u001b[0m \u001b[39mParses a move in standard algebraic notation, makes the move and puts\u001b[39;00m\n\u001b[1;32m   3069\u001b[0m \u001b[39mit onto the move stack.\u001b[39;00m\n\u001b[0;32m   (...)\u001b[0m\n\u001b[1;32m   3077\u001b[0m \u001b[39m        - :exc:`AmbiguousMoveError` if the SAN is ambiguous.\u001b[39;00m\n\u001b[1;32m   3078\u001b[0m \u001b[39m\"\"\"\u001b[39;00m\n\u001b[0;32m-> 3079\u001b[0m move \u001b[39m=\u001b[39m \u001b[39mself\u001b[39;49m\u001b[39m.\u001b[39;49mparse_san(san)\n\u001b[1;32m   3080\u001b[0m \u001b[39mself\u001b[39m\u001b[39m.\u001b[39mpush(move)\n",
      "File \u001b[0;32m~/.local/share/virtualenvs/llms-play-chess-bAl2FzTy/lib/python3.11/site-packages/chess/__init__.py:3012\u001b[0m, in \u001b[0;36mBoard.parse_san\u001b[0;34m(self, san)\u001b[0m\n\u001b[1;32m   3011\u001b[0m     \u001b[39melse\u001b[39;00m:\n\u001b[0;32m-> 3012\u001b[0m         \u001b[39mraise\u001b[39;00m InvalidMoveError(\u001b[39mf\u001b[39m\u001b[39m\"\u001b[39m\u001b[39minvalid san: \u001b[39m\u001b[39m{\u001b[39;00msan\u001b[39m!r}\u001b[39;00m\u001b[39m\"\u001b[39m)\n\u001b[1;32m   3014\u001b[0m \u001b[39m# Get target square. Mask our own pieces to exclude castling moves.\u001b[39;00m\n",
      "\u001b[0;31mInvalidMoveError\u001b[0m: invalid san: '1. e2-e4'",
      "\nDuring handling of the above exception, another exception occurred:\n",
      "\u001b[0;31mException\u001b[0m                                 Traceback (most recent call last)",
      "\u001b[1;32m/Users/maxim/Documents/Code/llms-play-chess/play_chess.ipynb Cell 7\u001b[0m line \u001b[0;36m1\n\u001b[0;32m----> <a href='vscode-notebook-cell:/Users/maxim/Documents/Code/llms-play-chess/play_chess.ipynb#X13sZmlsZQ%3D%3D?line=0'>1</a>\u001b[0m move \u001b[39m=\u001b[39m make_move(white_player, white_player_prompt)\n\u001b[1;32m      <a href='vscode-notebook-cell:/Users/maxim/Documents/Code/llms-play-chess/play_chess.ipynb#X13sZmlsZQ%3D%3D?line=1'>2</a>\u001b[0m moves\u001b[39m.\u001b[39mappend(move)\n\u001b[1;32m      <a href='vscode-notebook-cell:/Users/maxim/Documents/Code/llms-play-chess/play_chess.ipynb#X13sZmlsZQ%3D%3D?line=2'>3</a>\u001b[0m move \u001b[39m=\u001b[39m make_move(black_player, black_player_prompt\u001b[39m.\u001b[39mformat(move\u001b[39m=\u001b[39mmove))\n",
      "\u001b[1;32m/Users/maxim/Documents/Code/llms-play-chess/play_chess.ipynb Cell 7\u001b[0m line \u001b[0;36m1\n\u001b[1;32m     <a href='vscode-notebook-cell:/Users/maxim/Documents/Code/llms-play-chess/play_chess.ipynb#X13sZmlsZQ%3D%3D?line=12'>13</a>\u001b[0m \u001b[39mif\u001b[39;00m attempts \u001b[39m>\u001b[39m MAX_RETRY:\n\u001b[1;32m     <a href='vscode-notebook-cell:/Users/maxim/Documents/Code/llms-play-chess/play_chess.ipynb#X13sZmlsZQ%3D%3D?line=13'>14</a>\u001b[0m     \u001b[39mraise\u001b[39;00m \u001b[39mException\u001b[39;00m(\u001b[39mf\u001b[39m\u001b[39m'\u001b[39m\u001b[39m{\u001b[39;00mplayer\u001b[39m.\u001b[39m\u001b[39m__class__\u001b[39m\u001b[39m.\u001b[39m\u001b[39m__name__\u001b[39m\u001b[39m}\u001b[39;00m\u001b[39m returned incorrect value too many times.\u001b[39m\u001b[39m'\u001b[39m)\n\u001b[0;32m---> <a href='vscode-notebook-cell:/Users/maxim/Documents/Code/llms-play-chess/play_chess.ipynb#X13sZmlsZQ%3D%3D?line=14'>15</a>\u001b[0m \u001b[39mreturn\u001b[39;00m make_move(player, \u001b[39m\"\u001b[39;49m\u001b[39mPlease return only SAN representation of the move. Please try again:\u001b[39;49m\u001b[39m\"\u001b[39;49m, attempts\u001b[39m=\u001b[39;49mattempts\u001b[39m+\u001b[39;49m\u001b[39m1\u001b[39;49m)\n",
      "\u001b[1;32m/Users/maxim/Documents/Code/llms-play-chess/play_chess.ipynb Cell 7\u001b[0m line \u001b[0;36m1\n\u001b[1;32m     <a href='vscode-notebook-cell:/Users/maxim/Documents/Code/llms-play-chess/play_chess.ipynb#X13sZmlsZQ%3D%3D?line=12'>13</a>\u001b[0m \u001b[39mif\u001b[39;00m attempts \u001b[39m>\u001b[39m MAX_RETRY:\n\u001b[1;32m     <a href='vscode-notebook-cell:/Users/maxim/Documents/Code/llms-play-chess/play_chess.ipynb#X13sZmlsZQ%3D%3D?line=13'>14</a>\u001b[0m     \u001b[39mraise\u001b[39;00m \u001b[39mException\u001b[39;00m(\u001b[39mf\u001b[39m\u001b[39m'\u001b[39m\u001b[39m{\u001b[39;00mplayer\u001b[39m.\u001b[39m\u001b[39m__class__\u001b[39m\u001b[39m.\u001b[39m\u001b[39m__name__\u001b[39m\u001b[39m}\u001b[39;00m\u001b[39m returned incorrect value too many times.\u001b[39m\u001b[39m'\u001b[39m)\n\u001b[0;32m---> <a href='vscode-notebook-cell:/Users/maxim/Documents/Code/llms-play-chess/play_chess.ipynb#X13sZmlsZQ%3D%3D?line=14'>15</a>\u001b[0m \u001b[39mreturn\u001b[39;00m make_move(player, \u001b[39m\"\u001b[39;49m\u001b[39mPlease return only SAN representation of the move. Please try again:\u001b[39;49m\u001b[39m\"\u001b[39;49m, attempts\u001b[39m=\u001b[39;49mattempts\u001b[39m+\u001b[39;49m\u001b[39m1\u001b[39;49m)\n",
      "\u001b[1;32m/Users/maxim/Documents/Code/llms-play-chess/play_chess.ipynb Cell 7\u001b[0m line \u001b[0;36m1\n\u001b[1;32m     <a href='vscode-notebook-cell:/Users/maxim/Documents/Code/llms-play-chess/play_chess.ipynb#X13sZmlsZQ%3D%3D?line=11'>12</a>\u001b[0m attempts \u001b[39m+\u001b[39m\u001b[39m=\u001b[39m \u001b[39m1\u001b[39m\n\u001b[1;32m     <a href='vscode-notebook-cell:/Users/maxim/Documents/Code/llms-play-chess/play_chess.ipynb#X13sZmlsZQ%3D%3D?line=12'>13</a>\u001b[0m \u001b[39mif\u001b[39;00m attempts \u001b[39m>\u001b[39m MAX_RETRY:\n\u001b[0;32m---> <a href='vscode-notebook-cell:/Users/maxim/Documents/Code/llms-play-chess/play_chess.ipynb#X13sZmlsZQ%3D%3D?line=13'>14</a>\u001b[0m     \u001b[39mraise\u001b[39;00m \u001b[39mException\u001b[39;00m(\u001b[39mf\u001b[39m\u001b[39m'\u001b[39m\u001b[39m{\u001b[39;00mplayer\u001b[39m.\u001b[39m\u001b[39m__class__\u001b[39m\u001b[39m.\u001b[39m\u001b[39m__name__\u001b[39m\u001b[39m}\u001b[39;00m\u001b[39m returned incorrect value too many times.\u001b[39m\u001b[39m'\u001b[39m)\n\u001b[1;32m     <a href='vscode-notebook-cell:/Users/maxim/Documents/Code/llms-play-chess/play_chess.ipynb#X13sZmlsZQ%3D%3D?line=14'>15</a>\u001b[0m \u001b[39mreturn\u001b[39;00m make_move(player, \u001b[39m\"\u001b[39m\u001b[39mPlease return only SAN representation of the move. Please try again:\u001b[39m\u001b[39m\"\u001b[39m, attempts\u001b[39m=\u001b[39mattempts\u001b[39m+\u001b[39m\u001b[39m1\u001b[39m)\n",
      "\u001b[0;31mException\u001b[0m: OpenAIPlayer returned incorrect value too many times."
     ]
    }
   ],
   "source": [
    "move = make_move(white_player, white_player_prompt)\n",
    "moves.append(move)\n",
    "move = make_move(black_player, black_player_prompt.format(move=move))\n",
    "moves.append(move)\n",
    "board"
   ]
  },
  {
   "cell_type": "markdown",
   "metadata": {},
   "source": [
    "### Other moves"
   ]
  },
  {
   "cell_type": "code",
   "execution_count": null,
   "metadata": {},
   "outputs": [],
   "source": [
    "move = make_move(white_player, move)\n",
    "moves.append(move)\n",
    "move = make_move(black_player, move)\n",
    "moves.append(move)\n",
    "board"
   ]
  },
  {
   "cell_type": "code",
   "execution_count": null,
   "metadata": {},
   "outputs": [],
   "source": [
    "move = make_move(white_player, move)\n",
    "moves.append(move)\n",
    "move = make_move(black_player, move)\n",
    "moves.append(move)\n",
    "board"
   ]
  },
  {
   "cell_type": "code",
   "execution_count": null,
   "metadata": {},
   "outputs": [],
   "source": [
    "move = make_move(white_player, move)\n",
    "moves.append(move)\n",
    "move = make_move(black_player, move)\n",
    "moves.append(move)\n",
    "board"
   ]
  },
  {
   "cell_type": "code",
   "execution_count": null,
   "metadata": {},
   "outputs": [],
   "source": [
    "move = make_move(white_player, move)\n",
    "moves.append(move)\n",
    "move = make_move(black_player, move)\n",
    "moves.append(move)\n",
    "board"
   ]
  },
  {
   "cell_type": "code",
   "execution_count": null,
   "metadata": {},
   "outputs": [],
   "source": [
    "move = make_move(white_player, move)\n",
    "moves.append(move)\n",
    "move = make_move(black_player, move)\n",
    "moves.append(move)\n",
    "board"
   ]
  },
  {
   "cell_type": "code",
   "execution_count": null,
   "metadata": {},
   "outputs": [],
   "source": [
    "move = make_move(white_player, move)\n",
    "moves.append(move)\n",
    "move = make_move(black_player, move)\n",
    "moves.append(move)\n",
    "board"
   ]
  },
  {
   "cell_type": "code",
   "execution_count": null,
   "metadata": {},
   "outputs": [],
   "source": [
    "move = make_move(white_player, move)\n",
    "moves.append(move)\n",
    "move = make_move(black_player, move)\n",
    "moves.append(move)\n",
    "board"
   ]
  },
  {
   "cell_type": "code",
   "execution_count": null,
   "metadata": {},
   "outputs": [],
   "source": [
    "move = make_move(white_player, move)\n",
    "moves.append(move)\n",
    "move = make_move(black_player, move)\n",
    "moves.append(move)\n",
    "board"
   ]
  },
  {
   "cell_type": "code",
   "execution_count": null,
   "metadata": {},
   "outputs": [],
   "source": [
    "move = make_move(white_player, move)\n",
    "moves.append(move)\n",
    "move = make_move(black_player, move)\n",
    "moves.append(move)\n",
    "board"
   ]
  },
  {
   "cell_type": "code",
   "execution_count": null,
   "metadata": {},
   "outputs": [],
   "source": [
    "move = make_move(white_player, move)\n",
    "moves.append(move)\n",
    "move = make_move(black_player, move)\n",
    "moves.append(move)\n",
    "board"
   ]
  },
  {
   "cell_type": "code",
   "execution_count": null,
   "metadata": {},
   "outputs": [],
   "source": [
    "move = make_move(white_player, move)\n",
    "moves.append(move)\n",
    "move = make_move(black_player, move)\n",
    "moves.append(move)\n",
    "board"
   ]
  },
  {
   "cell_type": "code",
   "execution_count": null,
   "metadata": {},
   "outputs": [],
   "source": [
    "move = make_move(white_player, move)\n",
    "moves.append(move)\n",
    "move = make_move(black_player, move)\n",
    "moves.append(move)\n",
    "board"
   ]
  },
  {
   "cell_type": "code",
   "execution_count": null,
   "metadata": {},
   "outputs": [],
   "source": [
    "move = make_move(white_player, move)\n",
    "moves.append(move)\n",
    "move = make_move(black_player, move)\n",
    "moves.append(move)\n",
    "board"
   ]
  },
  {
   "cell_type": "code",
   "execution_count": null,
   "metadata": {},
   "outputs": [],
   "source": [
    "move = make_move(white_player, move)\n",
    "moves.append(move)\n",
    "move = make_move(black_player, move)\n",
    "moves.append(move)\n",
    "board"
   ]
  },
  {
   "cell_type": "code",
   "execution_count": null,
   "metadata": {},
   "outputs": [],
   "source": [
    "move = make_move(white_player, move)\n",
    "moves.append(move)\n",
    "move = make_move(black_player, move)\n",
    "moves.append(move)\n",
    "board"
   ]
  },
  {
   "cell_type": "code",
   "execution_count": null,
   "metadata": {},
   "outputs": [],
   "source": [
    "move = make_move(white_player, move)\n",
    "moves.append(move)\n",
    "move = make_move(black_player, move)\n",
    "moves.append(move)\n",
    "board"
   ]
  },
  {
   "cell_type": "code",
   "execution_count": null,
   "metadata": {},
   "outputs": [],
   "source": [
    "move = make_move(white_player, move)\n",
    "moves.append(move)\n",
    "move = make_move(black_player, move)\n",
    "moves.append(move)\n",
    "board"
   ]
  },
  {
   "cell_type": "code",
   "execution_count": null,
   "metadata": {},
   "outputs": [],
   "source": [
    "board"
   ]
  },
  {
   "cell_type": "code",
   "execution_count": null,
   "metadata": {},
   "outputs": [],
   "source": []
  }
 ],
 "metadata": {
  "kernelspec": {
   "display_name": "llms-play-chess-bAl2FzTy",
   "language": "python",
   "name": "python3"
  },
  "language_info": {
   "codemirror_mode": {
    "name": "ipython",
    "version": 3
   },
   "file_extension": ".py",
   "mimetype": "text/x-python",
   "name": "python",
   "nbconvert_exporter": "python",
   "pygments_lexer": "ipython3",
   "version": "3.11.6"
  }
 },
 "nbformat": 4,
 "nbformat_minor": 2
}

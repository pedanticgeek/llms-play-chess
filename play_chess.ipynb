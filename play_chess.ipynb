{
 "cells": [
  {
   "cell_type": "code",
   "execution_count": null,
   "metadata": {},
   "outputs": [],
   "source": [
    "import time\n",
    "from dotenv import load_dotenv\n",
    "load_dotenv('.env')\n",
    "import chess\n",
    "from claude_player import ClaudePlayer\n",
    "from openai_player import OpenAIPlayer\n",
    "from prompts import white_player_prompt, black_player_prompt"
   ]
  },
  {
   "cell_type": "code",
   "execution_count": null,
   "metadata": {},
   "outputs": [],
   "source": [
    "white_player = OpenAIPlayer()\n",
    "black_player = ClaudePlayer()"
   ]
  },
  {
   "cell_type": "code",
   "execution_count": null,
   "metadata": {},
   "outputs": [],
   "source": [
    "board = chess.Board()\n",
    "board.legal_moves"
   ]
  },
  {
   "cell_type": "code",
   "execution_count": null,
   "metadata": {},
   "outputs": [],
   "source": [
    "MAX_RETRY = 3\n",
    "moves = []"
   ]
  },
  {
   "cell_type": "code",
   "execution_count": null,
   "metadata": {},
   "outputs": [],
   "source": [
    "def make_move(player, move, attempts=0):\n",
    "    try:\n",
    "        move = player.make_move(move)\n",
    "        board.push_san(move.strip())\n",
    "        return move\n",
    "    except chess.IllegalMoveError as ex:\n",
    "        attempts += 1\n",
    "        if attempts > MAX_RETRY:\n",
    "            raise Exception(f'{player.__class__.__name__} made too many illegal moves')\n",
    "        return make_move(player, \"You last move was illegal. Please try again:\", attempts=attempts+1)\n",
    "    except chess.InvalidMoveError as ex:\n",
    "        attempts += 1\n",
    "        if attempts > MAX_RETRY:\n",
    "            raise Exception(f'{player.__class__.__name__} returned incorrect value too many times.')\n",
    "        return make_move(player, \"Please return only SAN representation of the move. Please try again:\", attempts=attempts+1)"
   ]
  },
  {
   "cell_type": "markdown",
   "metadata": {},
   "source": [
    "### First Move"
   ]
  },
  {
   "cell_type": "code",
   "execution_count": null,
   "metadata": {},
   "outputs": [],
   "source": [
    "move = make_move(white_player, white_player_prompt)\n",
    "moves.append(move)\n",
    "move = make_move(black_player, black_player_prompt.format(move=move))\n",
    "moves.append(move)\n",
    "board"
   ]
  },
  {
   "cell_type": "markdown",
   "metadata": {},
   "source": [
    "### Other moves"
   ]
  },
  {
   "cell_type": "code",
   "execution_count": null,
   "metadata": {},
   "outputs": [],
   "source": [
    "move = make_move(white_player, move)\n",
    "moves.append(move)\n",
    "move = make_move(black_player, move)\n",
    "moves.append(move)\n",
    "board"
   ]
  },
  {
   "cell_type": "code",
   "execution_count": null,
   "metadata": {},
   "outputs": [],
   "source": [
    "move = make_move(white_player, move)\n",
    "moves.append(move)\n",
    "move = make_move(black_player, move)\n",
    "moves.append(move)\n",
    "board"
   ]
  },
  {
   "cell_type": "code",
   "execution_count": null,
   "metadata": {},
   "outputs": [],
   "source": [
    "move = make_move(white_player, move)\n",
    "moves.append(move)\n",
    "move = make_move(black_player, move)\n",
    "moves.append(move)\n",
    "board"
   ]
  },
  {
   "cell_type": "code",
   "execution_count": null,
   "metadata": {},
   "outputs": [],
   "source": [
    "move = make_move(white_player, move)\n",
    "moves.append(move)\n",
    "move = make_move(black_player, move)\n",
    "moves.append(move)\n",
    "board"
   ]
  },
  {
   "cell_type": "code",
   "execution_count": null,
   "metadata": {},
   "outputs": [],
   "source": [
    "move = make_move(white_player, move)\n",
    "moves.append(move)\n",
    "move = make_move(black_player, move)\n",
    "moves.append(move)\n",
    "board"
   ]
  },
  {
   "cell_type": "code",
   "execution_count": null,
   "metadata": {},
   "outputs": [],
   "source": [
    "move = make_move(white_player, move)\n",
    "moves.append(move)\n",
    "move = make_move(black_player, move)\n",
    "moves.append(move)\n",
    "board"
   ]
  },
  {
   "cell_type": "code",
   "execution_count": null,
   "metadata": {},
   "outputs": [],
   "source": [
    "move = make_move(white_player, move)\n",
    "moves.append(move)\n",
    "move = make_move(black_player, move)\n",
    "moves.append(move)\n",
    "board"
   ]
  },
  {
   "cell_type": "code",
   "execution_count": null,
   "metadata": {},
   "outputs": [],
   "source": [
    "move = make_move(white_player, move)\n",
    "moves.append(move)\n",
    "move = make_move(black_player, move)\n",
    "moves.append(move)\n",
    "board"
   ]
  },
  {
   "cell_type": "code",
   "execution_count": null,
   "metadata": {},
   "outputs": [],
   "source": [
    "move = make_move(white_player, move)\n",
    "moves.append(move)\n",
    "move = make_move(black_player, move)\n",
    "moves.append(move)\n",
    "board"
   ]
  },
  {
   "cell_type": "code",
   "execution_count": null,
   "metadata": {},
   "outputs": [],
   "source": [
    "move = make_move(white_player, move)\n",
    "moves.append(move)\n",
    "move = make_move(black_player, move)\n",
    "moves.append(move)\n",
    "board"
   ]
  },
  {
   "cell_type": "code",
   "execution_count": null,
   "metadata": {},
   "outputs": [],
   "source": [
    "move = make_move(white_player, move)\n",
    "moves.append(move)\n",
    "move = make_move(black_player, move)\n",
    "moves.append(move)\n",
    "board"
   ]
  },
  {
   "cell_type": "code",
   "execution_count": null,
   "metadata": {},
   "outputs": [],
   "source": [
    "move = make_move(white_player, move)\n",
    "moves.append(move)\n",
    "move = make_move(black_player, move)\n",
    "moves.append(move)\n",
    "board"
   ]
  },
  {
   "cell_type": "code",
   "execution_count": null,
   "metadata": {},
   "outputs": [],
   "source": [
    "move = make_move(white_player, move)\n",
    "moves.append(move)\n",
    "move = make_move(black_player, move)\n",
    "moves.append(move)\n",
    "board"
   ]
  },
  {
   "cell_type": "code",
   "execution_count": null,
   "metadata": {},
   "outputs": [],
   "source": [
    "move = make_move(white_player, move)\n",
    "moves.append(move)\n",
    "move = make_move(black_player, move)\n",
    "moves.append(move)\n",
    "board"
   ]
  },
  {
   "cell_type": "code",
   "execution_count": null,
   "metadata": {},
   "outputs": [],
   "source": [
    "move = make_move(white_player, move)\n",
    "moves.append(move)\n",
    "move = make_move(black_player, move)\n",
    "moves.append(move)\n",
    "board"
   ]
  },
  {
   "cell_type": "code",
   "execution_count": null,
   "metadata": {},
   "outputs": [],
   "source": [
    "move = make_move(white_player, move)\n",
    "moves.append(move)\n",
    "move = make_move(black_player, move)\n",
    "moves.append(move)\n",
    "board"
   ]
  },
  {
   "cell_type": "code",
   "execution_count": null,
   "metadata": {},
   "outputs": [],
   "source": [
    "move = make_move(white_player, move)\n",
    "moves.append(move)\n",
    "move = make_move(black_player, move)\n",
    "moves.append(move)\n",
    "board"
   ]
  },
  {
   "cell_type": "code",
   "execution_count": null,
   "metadata": {},
   "outputs": [],
   "source": [
    "board"
   ]
  },
  {
   "cell_type": "code",
   "execution_count": null,
   "metadata": {},
   "outputs": [],
   "source": []
  }
 ],
 "metadata": {
  "kernelspec": {
   "display_name": "llms-play-chess-bAl2FzTy",
   "language": "python",
   "name": "python3"
  },
  "language_info": {
   "codemirror_mode": {
    "name": "ipython",
    "version": 3
   },
   "file_extension": ".py",
   "mimetype": "text/x-python",
   "name": "python",
   "nbconvert_exporter": "python",
   "pygments_lexer": "ipython3",
   "version": "3.11.6"
  }
 },
 "nbformat": 4,
 "nbformat_minor": 2
}
